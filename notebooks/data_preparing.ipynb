{
 "cells": [
  {
   "cell_type": "code",
   "execution_count": 4,
   "metadata": {},
   "outputs": [],
   "source": [
    "import numpy as np\n",
    "import pandas as pd\n",
    "import os, shutil\n",
    "\n",
    "base_dir = 'C:/Users/Krzysztof Sulima/Documents/DataScientistPath/Projects/Age_Detection_Convolutional_NN/data/dataset_imfdb'"
   ]
  },
  {
   "cell_type": "code",
   "execution_count": 5,
   "metadata": {},
   "outputs": [],
   "source": [
    "train_all = os.path.join(base_dir, 'train_all')\n",
    "labels_dir = os.path.join(base_dir, 'train.csv') \n",
    "\n",
    "labels = pd.read_csv(labels_dir)"
   ]
  },
  {
   "cell_type": "code",
   "execution_count": 8,
   "metadata": {},
   "outputs": [],
   "source": []
  },
  {
   "cell_type": "code",
   "execution_count": 9,
   "metadata": {},
   "outputs": [
    {
     "data": {
      "text/html": [
       "<div>\n",
       "<style scoped>\n",
       "    .dataframe tbody tr th:only-of-type {\n",
       "        vertical-align: middle;\n",
       "    }\n",
       "\n",
       "    .dataframe tbody tr th {\n",
       "        vertical-align: top;\n",
       "    }\n",
       "\n",
       "    .dataframe thead th {\n",
       "        text-align: right;\n",
       "    }\n",
       "</style>\n",
       "<table border=\"1\" class=\"dataframe\">\n",
       "  <thead>\n",
       "    <tr style=\"text-align: right;\">\n",
       "      <th></th>\n",
       "      <th>ID</th>\n",
       "      <th>Class</th>\n",
       "    </tr>\n",
       "  </thead>\n",
       "  <tbody>\n",
       "    <tr>\n",
       "      <th>0</th>\n",
       "      <td>377.jpg</td>\n",
       "      <td>MIDDLE</td>\n",
       "    </tr>\n",
       "    <tr>\n",
       "      <th>1</th>\n",
       "      <td>17814.jpg</td>\n",
       "      <td>YOUNG</td>\n",
       "    </tr>\n",
       "    <tr>\n",
       "      <th>2</th>\n",
       "      <td>21283.jpg</td>\n",
       "      <td>MIDDLE</td>\n",
       "    </tr>\n",
       "    <tr>\n",
       "      <th>3</th>\n",
       "      <td>16496.jpg</td>\n",
       "      <td>YOUNG</td>\n",
       "    </tr>\n",
       "    <tr>\n",
       "      <th>4</th>\n",
       "      <td>4487.jpg</td>\n",
       "      <td>MIDDLE</td>\n",
       "    </tr>\n",
       "  </tbody>\n",
       "</table>\n",
       "</div>"
      ],
      "text/plain": [
       "          ID   Class\n",
       "0    377.jpg  MIDDLE\n",
       "1  17814.jpg   YOUNG\n",
       "2  21283.jpg  MIDDLE\n",
       "3  16496.jpg   YOUNG\n",
       "4   4487.jpg  MIDDLE"
      ]
     },
     "execution_count": 9,
     "metadata": {},
     "output_type": "execute_result"
    }
   ],
   "source": [
    "labels.head()"
   ]
  },
  {
   "cell_type": "code",
   "execution_count": 7,
   "metadata": {},
   "outputs": [],
   "source": [
    "train_dir = os.path.join(base_dir, 'train')\n",
    "os.mkdir(train_dir)\n",
    "\n",
    "validation_dir = os.path.join(base_dir, 'validation')\n",
    "os.mkdir(validation_dir)"
   ]
  },
  {
   "cell_type": "code",
   "execution_count": 9,
   "metadata": {},
   "outputs": [],
   "source": [
    "train_young_dir = os.path.join(train_dir, 'young')\n",
    "os.mkdir(train_young_dir)\n",
    "\n",
    "train_middle_dir = os.path.join(train_dir, 'middle')\n",
    "os.mkdir(train_middle_dir)\n",
    "\n",
    "train_old_dir = os.path.join(train_dir, 'old')\n",
    "os.mkdir(train_old_dir)"
   ]
  },
  {
   "cell_type": "code",
   "execution_count": 10,
   "metadata": {},
   "outputs": [],
   "source": [
    "validation_young_dir = os.path.join(validation_dir, 'young')\n",
    "os.mkdir(validation_young_dir)\n",
    "\n",
    "validation_middle_dir = os.path.join(validation_dir, 'middle')\n",
    "os.mkdir(validation_middle_dir)\n",
    "\n",
    "validation_old_dir = os.path.join(validation_dir, 'old')\n",
    "os.mkdir(validation_old_dir)"
   ]
  },
  {
   "cell_type": "code",
   "execution_count": 14,
   "metadata": {},
   "outputs": [
    {
     "data": {
      "text/plain": [
       "MIDDLE    10804\n",
       "YOUNG      6706\n",
       "OLD        2396\n",
       "Name: Class, dtype: int64"
      ]
     },
     "execution_count": 14,
     "metadata": {},
     "output_type": "execute_result"
    }
   ],
   "source": [
    "labels.Class.value_counts()"
   ]
  },
  {
   "cell_type": "code",
   "execution_count": 20,
   "metadata": {},
   "outputs": [],
   "source": [
    "# Old class\n",
    "\n",
    "labels_old = labels.loc[labels.Class == 'OLD']\n",
    "labels_old = labels_old.sample(frac=1)\n",
    "                               \n",
    "for i, row in labels_old.iloc[:1600].iterrows():\n",
    "    src = os.path.join(train_all, row.ID)\n",
    "    dst = os.path.join(train_old_dir, row.ID)\n",
    "    shutil.copy(src, dst)                               \n",
    "                               \n",
    "for i, row in labels_old.iloc[1600:].iterrows():\n",
    "    src = os.path.join(train_all, row.ID)\n",
    "    dst = os.path.join(validation_old_dir, row.ID)\n",
    "    shutil.copy(src, dst)                           "
   ]
  },
  {
   "cell_type": "code",
   "execution_count": 37,
   "metadata": {},
   "outputs": [],
   "source": [
    "# Middle class\n",
    "\n",
    "labels_middle = labels.loc[labels.Class == 'MIDDLE']\n",
    "labels_middle = labels_middle.sample(frac=1)\n",
    "\n",
    "for i, row in labels_middle.iloc[:1600].iterrows():\n",
    "    src = os.path.join(train_all, row.ID)\n",
    "    dst = os.path.join(train_middle_dir, row.ID)\n",
    "    shutil.copy(src, dst)\n",
    "    \n",
    "for i, row in labels_middle.iloc[1600:2400].iterrows():\n",
    "    src = os.path.join(train_all, row.ID)\n",
    "    dst = os.path.join(validation_middle_dir, row.ID)\n",
    "    shutil.copy(src, dst)"
   ]
  },
  {
   "cell_type": "code",
   "execution_count": 41,
   "metadata": {},
   "outputs": [],
   "source": [
    "# Middle class\n",
    "\n",
    "labels_young = labels.loc[labels.Class == 'YOUNG']\n",
    "labels_young = labels_young.sample(frac=1)\n",
    "\n",
    "for i, row in labels_young.iloc[:1600].iterrows():\n",
    "    src = os.path.join(train_all, row.ID)\n",
    "    dst = os.path.join(train_young_dir, row.ID)\n",
    "    shutil.copy(src, dst)\n",
    "    \n",
    "for i, row in labels_young.iloc[1600:2400].iterrows():\n",
    "    src = os.path.join(train_all, row.ID)\n",
    "    dst = os.path.join(validation_young_dir, row.ID)\n",
    "    shutil.copy(src, dst)"
   ]
  },
  {
   "cell_type": "code",
   "execution_count": 11,
   "metadata": {},
   "outputs": [
    {
     "name": "stdout",
     "output_type": "stream",
     "text": [
      "Total training young images: 1600\n",
      "Total training middle images: 1600\n",
      "Total training old images: 1600\n",
      "Total validation young images: 800\n",
      "Total validation middle images: 800\n",
      "Total validation old images: 796\n"
     ]
    }
   ],
   "source": [
    "print('Total training young images:', len(os.listdir(train_young_dir)))\n",
    "print('Total training middle images:', len(os.listdir(train_middle_dir)))\n",
    "print('Total training old images:', len(os.listdir(train_old_dir)))\n",
    "print('Total validation young images:', len(os.listdir(validation_young_dir)))\n",
    "print('Total validation middle images:', len(os.listdir(validation_middle_dir)))\n",
    "print('Total validation old images:', len(os.listdir(validation_old_dir)))"
   ]
  },
  {
   "cell_type": "code",
   "execution_count": null,
   "metadata": {},
   "outputs": [],
   "source": []
  }
 ],
 "metadata": {
  "kernelspec": {
   "display_name": "Python 3",
   "language": "python",
   "name": "python3"
  },
  "language_info": {
   "codemirror_mode": {
    "name": "ipython",
    "version": 3
   },
   "file_extension": ".py",
   "mimetype": "text/x-python",
   "name": "python",
   "nbconvert_exporter": "python",
   "pygments_lexer": "ipython3",
   "version": "3.6.6"
  }
 },
 "nbformat": 4,
 "nbformat_minor": 2
}
